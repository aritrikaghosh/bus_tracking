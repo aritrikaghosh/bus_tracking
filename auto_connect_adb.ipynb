{
 "cells": [
  {
   "cell_type": "code",
   "execution_count": null,
   "metadata": {},
   "outputs": [],
   "source": [
    "import subprocess as sp"
   ]
  },
  {
   "cell_type": "code",
   "execution_count": null,
   "metadata": {},
   "outputs": [],
   "source": [
    "sp.run([\"adb\" , \"tcpip\" , \"5555\"])"
   ]
  },
  {
   "cell_type": "code",
   "execution_count": null,
   "metadata": {},
   "outputs": [],
   "source": [
    "ip1 = \"192.168.184.132\"\n",
    "ip2 = \"192.168.29.248\"\n",
    "\n",
    "print(\"1. {0}\".format(ip1))\n",
    "print(\"2. {0}\".format(ip2))\n",
    "print(\"3. input your own\")\n",
    "which = int(input(\"which ip to use ?\"))\n",
    "\n",
    "if(which == 1):\n",
    "    sp.run([\"adb\",\"connect\",ip1])\n",
    "elif(which == 2):\n",
    "    sp.run([\"adb\",\"connect\",ip2])\n",
    "else:\n",
    "    ip = input(\"give ip\")\n",
    "    sp.run([\"adb\",\"connect\",ip])\n",
    "\n",
    "print(\"done\")"
   ]
  }
 ],
 "metadata": {
  "kernelspec": {
   "display_name": "Python 3",
   "language": "python",
   "name": "python3"
  },
  "language_info": {
   "codemirror_mode": {
    "name": "ipython",
    "version": 3
   },
   "file_extension": ".py",
   "mimetype": "text/x-python",
   "name": "python",
   "nbconvert_exporter": "python",
   "pygments_lexer": "ipython3",
   "version": "3.10.10"
  },
  "orig_nbformat": 4
 },
 "nbformat": 4,
 "nbformat_minor": 2
}
